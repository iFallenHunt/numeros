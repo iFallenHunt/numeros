{
  "nbformat": 4,
  "nbformat_minor": 0,
  "metadata": {
    "colab": {
      "name": "primeiros passos python",
      "provenance": [],
      "authorship_tag": "ABX9TyODxSMMCPq9jUYs+TlaNQOp",
      "include_colab_link": true
    },
    "kernelspec": {
      "name": "python3",
      "display_name": "Python 3"
    },
    "language_info": {
      "name": "python"
    }
  },
  "cells": [
    {
      "cell_type": "markdown",
      "metadata": {
        "id": "view-in-github",
        "colab_type": "text"
      },
      "source": [
        "<a href=\"https://colab.research.google.com/github/iFallenHunt/numeros/blob/main/primeiros_passos_python.ipynb\" target=\"_parent\"><img src=\"https://colab.research.google.com/assets/colab-badge.svg\" alt=\"Open In Colab\"/></a>"
      ]
    },
    {
      "cell_type": "code",
      "source": [
        "n1 = int(input('Digite o primeiro numero: '))\n",
        "n2 = int(input('Digite o segundo numero: '))\n",
        "\n",
        "adicao = n1 + n2\n",
        "subtracao = n1 - n2\n",
        "multiplicacao = n1 * n2\n",
        "divisao = n1 / n2 \n",
        "\n",
        "print('Adição ', adicao)\n",
        "print('Subtração ', subtracao)\n",
        "print('Multiplicação ', multiplicacao)\n",
        "print('Divisão ', divisao)"
      ],
      "metadata": {
        "colab": {
          "base_uri": "https://localhost:8080/"
        },
        "id": "2bCcMM2J3X-d",
        "outputId": "729d2e2e-36de-4a5b-f42d-9ce257c9e777"
      },
      "execution_count": 5,
      "outputs": [
        {
          "output_type": "stream",
          "name": "stdout",
          "text": [
            "Digite o primeiro numero: 15\n",
            "Digite o segundo numero: 2\n",
            "Adição  17\n",
            "Subtração  13\n",
            "Multiplicação  30\n",
            "Divisão  7.5\n"
          ]
        }
      ]
    }
  ]
}
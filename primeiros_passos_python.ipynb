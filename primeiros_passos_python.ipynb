{
  "nbformat": 4,
  "nbformat_minor": 0,
  "metadata": {
    "colab": {
      "name": "primeiros passos python",
      "provenance": [],
      "authorship_tag": "ABX9TyPwDufoZzee9bGS/dFoJPaW",
      "include_colab_link": true
    },
    "kernelspec": {
      "name": "python3",
      "display_name": "Python 3"
    },
    "language_info": {
      "name": "python"
    }
  },
  "cells": [
    {
      "cell_type": "markdown",
      "metadata": {
        "id": "view-in-github",
        "colab_type": "text"
      },
      "source": [
        "<a href=\"https://colab.research.google.com/github/iFallenHunt/numeros/blob/main/primeiros_passos_python.ipynb\" target=\"_parent\"><img src=\"https://colab.research.google.com/assets/colab-badge.svg\" alt=\"Open In Colab\"/></a>"
      ]
    },
    {
      "cell_type": "code",
      "execution_count": 1,
      "metadata": {
        "colab": {
          "base_uri": "https://localhost:8080/"
        },
        "id": "VeUOKyX51TT3",
        "outputId": "b4f8723e-66aa-414c-cbae-06537caefd2b"
      },
      "outputs": [
        {
          "output_type": "stream",
          "name": "stdout",
          "text": [
            "A soma de  17 por 6 o resultado é 23\n"
          ]
        }
      ],
      "source": [
        "n1 = 17 \n",
        "n2 = 6 \n",
        "print(f'A soma de  {n1} por {n2} o resultado é {n1+n2}')\n"
      ]
    },
    {
      "cell_type": "code",
      "source": [
        "n1 = 17 \n",
        "n2 = 6 \n",
        "print(f'Subtração de {n1} por {n2} o resultado é {n1-n2}')"
      ],
      "metadata": {
        "colab": {
          "base_uri": "https://localhost:8080/"
        },
        "id": "Gq8EaEm11baF",
        "outputId": "059ec990-9c06-4c08-f109-74477d0ce4c7"
      },
      "execution_count": 2,
      "outputs": [
        {
          "output_type": "stream",
          "name": "stdout",
          "text": [
            "Subtração de 17 por 6 o resultado é 11\n"
          ]
        }
      ]
    },
    {
      "cell_type": "code",
      "source": [
        "n1 = 17 \n",
        "n2 = 6 \n",
        "print(f'Multiplicando {n1} por {n2} o resultado é {n1*n2}')"
      ],
      "metadata": {
        "colab": {
          "base_uri": "https://localhost:8080/"
        },
        "id": "-GM6qs_P1ioU",
        "outputId": "5cd88223-b29d-41af-fd6e-48a84e958158"
      },
      "execution_count": 3,
      "outputs": [
        {
          "output_type": "stream",
          "name": "stdout",
          "text": [
            "Multiplicando 17 por 6 o resultado é 102\n"
          ]
        }
      ]
    },
    {
      "cell_type": "code",
      "source": [
        "n1 = 17 \n",
        "n2 = 6 \n",
        "print(f'A Divisao de {n1} por {n2} o resultado é {n1/n2}')"
      ],
      "metadata": {
        "colab": {
          "base_uri": "https://localhost:8080/"
        },
        "id": "b73nN1QO1lf1",
        "outputId": "a9a8f02b-7815-4df9-e587-dc7365d267ff"
      },
      "execution_count": 4,
      "outputs": [
        {
          "output_type": "stream",
          "name": "stdout",
          "text": [
            "A Divisao de 17 por 6 o resultado é 2.8333333333333335\n"
          ]
        }
      ]
    }
  ]
}